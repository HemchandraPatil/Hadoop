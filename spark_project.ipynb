{
 "cells": [
  {
   "cell_type": "code",
   "execution_count": 1,
   "metadata": {},
   "outputs": [],
   "source": [
    "from pyspark.sql import SparkSession\n",
    "from pyspark.sql.functions import *\n",
    "\n",
    "#Create a Spark Application\n",
    "spark = SparkSession.builder.appName(\"groupbyagg\").getOrCreate()\n"
   ]
  },
  {
   "cell_type": "code",
   "execution_count": 2,
   "metadata": {},
   "outputs": [],
   "source": [
    "#Load the athlete_events.csv from Local System\n",
    "athlete_events = spark.read.csv('file:///home/hduser/demo_1/athlete_events.csv',sep=',',inferSchema=True,header=True)"
   ]
  },
  {
   "cell_type": "code",
   "execution_count": 3,
   "metadata": {},
   "outputs": [],
   "source": [
    "#Create Temp View of these 2 tables\n",
    "athlete_events.createOrReplaceTempView(\"athlete_events_view\")"
   ]
  },
  {
   "cell_type": "code",
   "execution_count": 4,
   "metadata": {},
   "outputs": [],
   "source": [
    "#Change your DB and table name as per your requirements...\n",
    "MySQL_URL = \"jdbc:mysql://localhost:3306/sqoop\"\n",
    "MySQL_driver = \"com.mysql.jdbc.Driver\"\n",
    "MySQL_table = \"athlete_events_MySQL\"\n",
    "user = \"root\"\n",
    "password = \"password\""
   ]
  },
  {
   "cell_type": "code",
   "execution_count": 5,
   "metadata": {},
   "outputs": [],
   "source": [
    "#Write a spark DF into a MySQL table.\n",
    "athlete_events.write.format('jdbc').options(url=MySQL_URL,driver=MySQL_driver,dbtable=MySQL_table,user=user,password=password).mode('overwrite').save()"
   ]
  },
  {
   "cell_type": "code",
   "execution_count": 6,
   "metadata": {},
   "outputs": [],
   "source": [
    "#Read the data from MySQL table and store it in a spark DF.\n",
    "Read_From_MySQL = spark.read.format(\"jdbc\").option(\"url\", MySQL_URL).option(\"driver\", MySQL_driver).option(\"dbtable\", MySQL_table).option(\"user\", user).option(\"password\", password).load()"
   ]
  },
  {
   "cell_type": "code",
   "execution_count": 7,
   "metadata": {},
   "outputs": [
    {
     "name": "stdout",
     "output_type": "stream",
     "text": [
      "+------+--------------------+---+---+------+------+-----------+---+-----------+----+------+------+--------+--------------------+-----+\n",
      "|    ID|                Name|Sex|Age|Height|Weight|       Team|NOC|      Games|Year|Season|  City|   Sport|               Event|Medal|\n",
      "+------+--------------------+---+---+------+------+-----------+---+-----------+----+------+------+--------+--------------------+-----+\n",
      "|112595|Glenn Andrew Mark...|  M| 25|   178|    83|New Zealand|NZL|2012 Summer|2012|Summer|London|Swimming|Swimming Men's 10...|   NA|\n",
      "|112595|Glenn Andrew Mark...|  M| 25|   178|    83|New Zealand|NZL|2012 Summer|2012|Summer|London|Swimming|Swimming Men's 20...|   NA|\n",
      "+------+--------------------+---+---+------+------+-----------+---+-----------+----+------+------+--------+--------------------+-----+\n",
      "only showing top 2 rows\n",
      "\n"
     ]
    }
   ],
   "source": [
    "Read_From_MySQL.show(2)"
   ]
  },
  {
   "cell_type": "code",
   "execution_count": null,
   "metadata": {},
   "outputs": [],
   "source": []
  }
 ],
 "metadata": {
  "kernelspec": {
   "display_name": "Python 3",
   "language": "python",
   "name": "python3"
  },
  "language_info": {
   "codemirror_mode": {
    "name": "ipython",
    "version": 3
   },
   "file_extension": ".py",
   "mimetype": "text/x-python",
   "name": "python",
   "nbconvert_exporter": "python",
   "pygments_lexer": "ipython3",
   "version": "3.4.3"
  }
 },
 "nbformat": 4,
 "nbformat_minor": 2
}
